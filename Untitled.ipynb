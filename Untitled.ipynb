{
 "cells": [
  {
   "cell_type": "markdown",
   "id": "2f34c8b7-cac1-4b8f-a7c4-33daec0a8616",
   "metadata": {},
   "source": [
    "Q1. Which function is used to open a file? What are the different modes of opening a file? Explain each mode\n",
    "of file opening."
   ]
  },
  {
   "cell_type": "code",
   "execution_count": 3,
   "id": "593bbb8e-b902-49ac-8337-0da18cf6bf4a",
   "metadata": {},
   "outputs": [],
   "source": [
    "# open inbuilt function opan a file. diffrent mode to open a file ..\n",
    "\n",
    "# 1 )'r'       open for reading (default)\n",
    "# 2 ) 'w'       open for writing, truncating the file first\n",
    "# 3 )'x'       create a new file and open it for writing\n",
    "# 4 )'a'       open for writing, appending to the end of the file if it exists\n",
    "# 5 )'b'       binary mode\n",
    "# 6 )'t'       text mode (default)\n",
    "# 7 )'+'       open a disk file for updating (reading and writing)\n",
    "# 8 )'U'       universal newline mode (deprecated)\n"
   ]
  },
  {
   "cell_type": "markdown",
   "id": "ae2e0bf6-e3f4-443c-a936-954aa909eee6",
   "metadata": {},
   "source": [
    "Q2. Why close() function is used? Why is it important to close a file?"
   ]
  },
  {
   "cell_type": "code",
   "execution_count": 5,
   "id": "274bb223-9da5-414d-a2c4-bbaedfe32581",
   "metadata": {},
   "outputs": [],
   "source": [
    "# # Close() function use to that i am write data into file then i am data saving particular this file then use close () function  \n",
    "# then my data is stored in my file\n",
    "\n",
    "# important of close function..\n",
    "# to close function use in the sava your data in file it will not save without close\n",
    "# so this is imp close () in a file"
   ]
  },
  {
   "cell_type": "markdown",
   "id": "f5d72b7c-eb82-451a-b21e-a2cd66535325",
   "metadata": {},
   "source": [
    "Q3. Write a python program to create a text file. Write ‘I want to become a Data Scientist’ in that file. Then\n",
    "close the file. Open this file and read the content of the file."
   ]
  },
  {
   "cell_type": "code",
   "execution_count": 7,
   "id": "46e464ca-a05c-41c6-ae97-fb8ff1e596f2",
   "metadata": {},
   "outputs": [],
   "source": [
    "p = open(\"pp.txt\",'w')"
   ]
  },
  {
   "cell_type": "code",
   "execution_count": 17,
   "id": "fc9f6217-6e76-4fdb-8b53-759474f9d285",
   "metadata": {},
   "outputs": [],
   "source": [
    "p.write('I want to become a Data Scientist')"
   ]
  },
  {
   "cell_type": "code",
   "execution_count": 18,
   "id": "4b25da28-ea61-4a9c-9a63-1d851eb906c0",
   "metadata": {},
   "outputs": [],
   "source": [
    "p.close()"
   ]
  },
  {
   "cell_type": "markdown",
   "id": "479cc351-2c7e-4ae0-846e-691cfbf03b8a",
   "metadata": {},
   "source": [
    "Q4. Explain the following with python code: read(), readline() and readlines()."
   ]
  },
  {
   "cell_type": "code",
   "execution_count": 19,
   "id": "774da10f-558b-49be-87e9-4c8cebf1e0e5",
   "metadata": {},
   "outputs": [],
   "source": [
    "# read()\n",
    "# read function is the use of my file to read the data no write only read the data then use read() and then read my data. \n",
    "\n",
    "p = open(\"pp.txt\",'r')"
   ]
  },
  {
   "cell_type": "code",
   "execution_count": 20,
   "id": "36fd5e68-8e1f-43ad-98aa-ffee498a76f2",
   "metadata": {},
   "outputs": [
    {
     "data": {
      "text/plain": [
       "'I want to become a Data Scientist'"
      ]
     },
     "execution_count": 20,
     "metadata": {},
     "output_type": "execute_result"
    }
   ],
   "source": [
    "p.read()"
   ]
  },
  {
   "cell_type": "code",
   "execution_count": 14,
   "id": "88662de0-133c-4016-b76e-14cef3edfe99",
   "metadata": {},
   "outputs": [
    {
     "data": {
      "text/plain": [
       "''"
      ]
     },
     "execution_count": 14,
     "metadata": {},
     "output_type": "execute_result"
    }
   ],
   "source": [
    "# readline()\n",
    "# line by line data read in this case use of \"readline()\"\n",
    "p.readline()"
   ]
  },
  {
   "cell_type": "code",
   "execution_count": 23,
   "id": "16a7b7e3-afc4-4651-81cf-a10aad2dde20",
   "metadata": {},
   "outputs": [],
   "source": [
    "# readlines()\n",
    "# in this method to see the data in list\n",
    "p = open(\"pp.txt\",\"r\")\n"
   ]
  },
  {
   "cell_type": "code",
   "execution_count": 24,
   "id": "2ee3d706-24a0-4b9f-87ec-92da1e9a15fe",
   "metadata": {},
   "outputs": [
    {
     "data": {
      "text/plain": [
       "['I want to become a Data Scientist']"
      ]
     },
     "execution_count": 24,
     "metadata": {},
     "output_type": "execute_result"
    }
   ],
   "source": [
    "p.readlines()"
   ]
  },
  {
   "cell_type": "code",
   "execution_count": 26,
   "id": "6695ebc2-f9c8-4b23-9ccf-a6a38bda3ef4",
   "metadata": {},
   "outputs": [],
   "source": [
    "p.close()"
   ]
  },
  {
   "cell_type": "markdown",
   "id": "83b7ec62-3f22-454a-bdbd-fec75b7b1a1d",
   "metadata": {},
   "source": []
  },
  {
   "cell_type": "code",
   "execution_count": null,
   "id": "8613143b-ba4e-4800-99b0-be3c7efef32e",
   "metadata": {},
   "outputs": [],
   "source": []
  },
  {
   "cell_type": "markdown",
   "id": "d0b224f6-28cb-4739-ad08-5c90df5c4850",
   "metadata": {},
   "source": []
  },
  {
   "cell_type": "code",
   "execution_count": null,
   "id": "5bd34c8a-a741-442c-8601-8887ccb48248",
   "metadata": {},
   "outputs": [],
   "source": []
  }
 ],
 "metadata": {
  "kernelspec": {
   "display_name": "Python 3 (ipykernel)",
   "language": "python",
   "name": "python3"
  },
  "language_info": {
   "codemirror_mode": {
    "name": "ipython",
    "version": 3
   },
   "file_extension": ".py",
   "mimetype": "text/x-python",
   "name": "python",
   "nbconvert_exporter": "python",
   "pygments_lexer": "ipython3",
   "version": "3.10.8"
  }
 },
 "nbformat": 4,
 "nbformat_minor": 5
}
